{
 "cells": [
  {
   "cell_type": "code",
   "execution_count": null,
   "id": "af2aa51a",
   "metadata": {
    "scrolled": false
   },
   "outputs": [
    {
     "name": "stdout",
     "output_type": "stream",
     "text": [
      "120.00339841842651\n"
     ]
    },
    {
     "data": {
      "image/png": "[encoded data removed]",
      "text/plain": [
       "<Figure size 820x790 with 1 Axes>"
      ]
     },
     "metadata": {},
     "output_type": "display_data"
    },
    {
     "name": "stdout",
     "output_type": "stream",
     "text": [
      "[1702155030.3436773, '(4.1, 7.9), Sound, 22.8311']\n",
      "[1702155031.3701472, '(4.1, 7.9), Sound, 22.8311']\n",
      "[1702155046.2252805, '(4.1, 7.9), Sound, 23.76739']\n",
      "[1702155057.1730998, '(3.6, 4.1), Vibration, 21.42667']\n",
      "[1702155058.6115727, '(3.6, 4.1), Vibration, 22.8311']\n",
      "[1702155060.5569167, '(3.6, 4.1), Vibration, 23.29928']\n",
      "[1702155061.7727988, '(3.6, 4.1), Vibration, 23.29928']\n",
      "[1702155062.6168797, '(3.6, 4.1), Vibration, 23.29928']\n"
     ]
    }
   ],
   "source": [
    "from IPython.display import clear_output\n",
    "import paho.mqtt.client as mqtt\n",
    "import time\n",
    "import matplotlib.pyplot as plt\n",
    "\n",
    "# Callback when the client connects to the MQTT broker\n",
    "def on_connect(client, userdata, flags, rc):\n",
    "    print(f'Connected with result code {rc}')\n",
    "    # Subscribe to the topic where Pico W is publishing data\n",
    "    client.subscribe('Ademtaiyr/feeds/welcome-feed')\n",
    "\n",
    "# Callback when a new message is received from the MQTT broker\n",
    "timestamp = time.time()\n",
    "x_coor = []\n",
    "y_coor = []\n",
    "\n",
    "# Every time a message (positive signal) is received, X and Y coordinate of sensor are extracted and \n",
    "# stored in a list\n",
    "def on_message(client, userdata, msg):\n",
    "    global x_coor\n",
    "    global y_coor\n",
    "    global timestamp\n",
    "    message = msg.payload.decode()\n",
    "    print([time.time(), message])\n",
    "    x = [float(message[1:4])]\n",
    "    y = [float(message[6:9])]\n",
    "    x_coor.append(x)\n",
    "    y_coor.append(y)\n",
    "\n",
    "# Set the MQTT broker details\n",
    "mqtt_server = 'io.adafruit.com'\n",
    "mqtt_port = 1883\n",
    "mqtt_user = 'Ademtaiyr'\n",
    "mqtt_password = 'aio_isMT98jVUPgtuDfcc2jiqQeYoLvt'\n",
    "\n",
    "# Create an MQTT client instance\n",
    "client = mqtt.Client()\n",
    "\n",
    "# Set the callbacks\n",
    "client.on_connect = on_connect\n",
    "client.on_message = on_message\n",
    "\n",
    "# Set the username and password for the MQTT broker\n",
    "client.username_pw_set(mqtt_user, mqtt_password)\n",
    "\n",
    "# Connect to the MQTT broker\n",
    "client.connect(mqtt_server, mqtt_port, 60)\n",
    "\n",
    "# Start the MQTT loop to listen for messages\n",
    "client.loop_start()\n",
    "\n",
    "room_name = \"Room 1\"\n",
    "room_width = 8.2\n",
    "room_length = 7.9\n",
    "# Keep calling on_message for 2 minutes (120 seconds)\n",
    "while True:\n",
    "    time.sleep(0.01)\n",
    "    # Once 120 seconds are reached, plot the occupancy map and dump old coordinates\n",
    "    if time.time() - timestamp > 120:\n",
    "        clear_output(wait=True)\n",
    "        print(time.time() - timestamp)\n",
    "        plt.figure(figsize=(room_width, room_length))\n",
    "        plt.scatter(x_coor, y_coor, marker='o', color='blue')\n",
    "        plt.xlim(0, room_width)\n",
    "        plt.ylim(0, room_length)\n",
    "        plt.xlabel('Width')\n",
    "        plt.ylabel('Length')\n",
    "        plt.title(room_name)\n",
    "        plt.grid(True)\n",
    "        plt.show()\n",
    "        x_coor = []\n",
    "        y_coor = []\n",
    "        timestamp = time.time()"
   ]
  }
 ],
 "metadata": {
  "kernelspec": {
   "display_name": "Python 3 (ipykernel)",
   "language": "python",
   "name": "python3"
  },
  "language_info": {
   "codemirror_mode": {
    "name": "ipython",
    "version": 3
   },
   "file_extension": ".py",
   "mimetype": "text/x-python",
   "name": "python",
   "nbconvert_exporter": "python",
   "pygments_lexer": "ipython3",
   "version": "3.11.5"
  }
 },
 "nbformat": 4,
 "nbformat_minor": 5
}
